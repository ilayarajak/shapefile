{
 "cells": [
  {
   "cell_type": "markdown",
   "metadata": {},
   "source": [
    "## Dr. K. Ilayaraja\n",
    "### Department of Geology\n",
    "### Univerity of Gondar\n",
    "### Ethiopia"
   ]
  },
  {
   "cell_type": "code",
   "execution_count": 1,
   "metadata": {},
   "outputs": [],
   "source": [
    "import pandas as pd\n",
    "import geopandas as gpd\n",
    "import matplotlib.pyplot as plt\n",
    "import numpy as np\n",
    "%matplotlib inline"
   ]
  },
  {
   "cell_type": "code",
   "execution_count": 2,
   "metadata": {},
   "outputs": [
    {
     "data": {
      "text/html": [
       "<div>\n",
       "<style scoped>\n",
       "    .dataframe tbody tr th:only-of-type {\n",
       "        vertical-align: middle;\n",
       "    }\n",
       "\n",
       "    .dataframe tbody tr th {\n",
       "        vertical-align: top;\n",
       "    }\n",
       "\n",
       "    .dataframe thead th {\n",
       "        text-align: right;\n",
       "    }\n",
       "</style>\n",
       "<table border=\"1\" class=\"dataframe\">\n",
       "  <thead>\n",
       "    <tr style=\"text-align: right;\">\n",
       "      <th></th>\n",
       "      <th>id</th>\n",
       "      <th>lake</th>\n",
       "      <th>geometry</th>\n",
       "    </tr>\n",
       "  </thead>\n",
       "  <tbody>\n",
       "    <tr>\n",
       "      <th>0</th>\n",
       "      <td>1</td>\n",
       "      <td>738711.839617</td>\n",
       "      <td>POLYGON ((391159.0368911196 1404776.992633907,...</td>\n",
       "    </tr>\n",
       "    <tr>\n",
       "      <th>1</th>\n",
       "      <td>2</td>\n",
       "      <td>331979.562573</td>\n",
       "      <td>POLYGON ((391103.0204830226 1406242.350465218,...</td>\n",
       "    </tr>\n",
       "    <tr>\n",
       "      <th>2</th>\n",
       "      <td>3</td>\n",
       "      <td>324350.752850</td>\n",
       "      <td>POLYGON ((390386.4136294825 1406383.902436286,...</td>\n",
       "    </tr>\n",
       "    <tr>\n",
       "      <th>3</th>\n",
       "      <td>1</td>\n",
       "      <td>546889.743808</td>\n",
       "      <td>POLYGON ((391049.9384938711 1405746.918566475,...</td>\n",
       "    </tr>\n",
       "    <tr>\n",
       "      <th>4</th>\n",
       "      <td>2</td>\n",
       "      <td>483301.392178</td>\n",
       "      <td>POLYGON ((390502.6695157737 1405490.05569512, ...</td>\n",
       "    </tr>\n",
       "    <tr>\n",
       "      <th>5</th>\n",
       "      <td>3</td>\n",
       "      <td>453416.397012</td>\n",
       "      <td>POLYGON ((389866.7768259766 1405356.961876329,...</td>\n",
       "    </tr>\n",
       "    <tr>\n",
       "      <th>6</th>\n",
       "      <td>1</td>\n",
       "      <td>715576.815046</td>\n",
       "      <td>POLYGON ((389763.2594113583 1404883.739409501,...</td>\n",
       "    </tr>\n",
       "    <tr>\n",
       "      <th>7</th>\n",
       "      <td>2</td>\n",
       "      <td>582886.053504</td>\n",
       "      <td>POLYGON ((390450.9108084654 1404558.398963556,...</td>\n",
       "    </tr>\n",
       "    <tr>\n",
       "      <th>8</th>\n",
       "      <td>1</td>\n",
       "      <td>979887.957451</td>\n",
       "      <td>POLYGON ((389955.5060385065 1404292.211325968,...</td>\n",
       "    </tr>\n",
       "    <tr>\n",
       "      <th>9</th>\n",
       "      <td>1</td>\n",
       "      <td>523399.522209</td>\n",
       "      <td>POLYGON ((391159.0368911196 1404776.992633907,...</td>\n",
       "    </tr>\n",
       "  </tbody>\n",
       "</table>\n",
       "</div>"
      ],
      "text/plain": [
       "   id           lake                                           geometry\n",
       "0   1  738711.839617  POLYGON ((391159.0368911196 1404776.992633907,...\n",
       "1   2  331979.562573  POLYGON ((391103.0204830226 1406242.350465218,...\n",
       "2   3  324350.752850  POLYGON ((390386.4136294825 1406383.902436286,...\n",
       "3   1  546889.743808  POLYGON ((391049.9384938711 1405746.918566475,...\n",
       "4   2  483301.392178  POLYGON ((390502.6695157737 1405490.05569512, ...\n",
       "5   3  453416.397012  POLYGON ((389866.7768259766 1405356.961876329,...\n",
       "6   1  715576.815046  POLYGON ((389763.2594113583 1404883.739409501,...\n",
       "7   2  582886.053504  POLYGON ((390450.9108084654 1404558.398963556,...\n",
       "8   1  979887.957451  POLYGON ((389955.5060385065 1404292.211325968,...\n",
       "9   1  523399.522209  POLYGON ((391159.0368911196 1404776.992633907,..."
      ]
     },
     "execution_count": 2,
     "metadata": {},
     "output_type": "execute_result"
    }
   ],
   "source": [
    "data = gpd.read_file('D:/Lecture/mylake.shp')\n",
    "data"
   ]
  },
  {
   "cell_type": "code",
   "execution_count": 3,
   "metadata": {},
   "outputs": [
    {
     "data": {
      "text/html": [
       "<div>\n",
       "<style scoped>\n",
       "    .dataframe tbody tr th:only-of-type {\n",
       "        vertical-align: middle;\n",
       "    }\n",
       "\n",
       "    .dataframe tbody tr th {\n",
       "        vertical-align: top;\n",
       "    }\n",
       "\n",
       "    .dataframe thead th {\n",
       "        text-align: right;\n",
       "    }\n",
       "</style>\n",
       "<table border=\"1\" class=\"dataframe\">\n",
       "  <thead>\n",
       "    <tr style=\"text-align: right;\">\n",
       "      <th></th>\n",
       "      <th>id</th>\n",
       "      <th>lake</th>\n",
       "      <th>geometry</th>\n",
       "    </tr>\n",
       "  </thead>\n",
       "  <tbody>\n",
       "    <tr>\n",
       "      <th>0</th>\n",
       "      <td>1</td>\n",
       "      <td>738711.839617</td>\n",
       "      <td>POLYGON ((391159.0368911196 1404776.992633907,...</td>\n",
       "    </tr>\n",
       "    <tr>\n",
       "      <th>1</th>\n",
       "      <td>2</td>\n",
       "      <td>331979.562573</td>\n",
       "      <td>POLYGON ((391103.0204830226 1406242.350465218,...</td>\n",
       "    </tr>\n",
       "    <tr>\n",
       "      <th>2</th>\n",
       "      <td>3</td>\n",
       "      <td>324350.752850</td>\n",
       "      <td>POLYGON ((390386.4136294825 1406383.902436286,...</td>\n",
       "    </tr>\n",
       "    <tr>\n",
       "      <th>3</th>\n",
       "      <td>1</td>\n",
       "      <td>546889.743808</td>\n",
       "      <td>POLYGON ((391049.9384938711 1405746.918566475,...</td>\n",
       "    </tr>\n",
       "    <tr>\n",
       "      <th>4</th>\n",
       "      <td>2</td>\n",
       "      <td>483301.392178</td>\n",
       "      <td>POLYGON ((390502.6695157737 1405490.05569512, ...</td>\n",
       "    </tr>\n",
       "  </tbody>\n",
       "</table>\n",
       "</div>"
      ],
      "text/plain": [
       "   id           lake                                           geometry\n",
       "0   1  738711.839617  POLYGON ((391159.0368911196 1404776.992633907,...\n",
       "1   2  331979.562573  POLYGON ((391103.0204830226 1406242.350465218,...\n",
       "2   3  324350.752850  POLYGON ((390386.4136294825 1406383.902436286,...\n",
       "3   1  546889.743808  POLYGON ((391049.9384938711 1405746.918566475,...\n",
       "4   2  483301.392178  POLYGON ((390502.6695157737 1405490.05569512, ..."
      ]
     },
     "execution_count": 3,
     "metadata": {},
     "output_type": "execute_result"
    }
   ],
   "source": [
    "data.columns\n",
    "data.head()"
   ]
  },
  {
   "cell_type": "code",
   "execution_count": 4,
   "metadata": {},
   "outputs": [
    {
     "data": {
      "text/plain": [
       "{'init': 'epsg:32644'}"
      ]
     },
     "execution_count": 4,
     "metadata": {},
     "output_type": "execute_result"
    }
   ],
   "source": [
    "data.crs\n"
   ]
  },
  {
   "cell_type": "code",
   "execution_count": 5,
   "metadata": {},
   "outputs": [
    {
     "data": {
      "text/plain": [
       "<matplotlib.axes._subplots.AxesSubplot at 0x7390cbac18>"
      ]
     },
     "execution_count": 5,
     "metadata": {},
     "output_type": "execute_result"
    },
    {
     "data": {
      "image/png": "[encoded data removed]",
      "text/plain": [
       "<Figure size 1080x1080 with 1 Axes>"
      ]
     },
     "metadata": {
      "needs_background": "light"
     },
     "output_type": "display_data"
    }
   ],
   "source": [
    "data.plot(column= 'lake', figsize=(15,15))"
   ]
  },
  {
   "cell_type": "code",
   "execution_count": 6,
   "metadata": {},
   "outputs": [
    {
     "data": {
      "text/html": [
       "<div>\n",
       "<style scoped>\n",
       "    .dataframe tbody tr th:only-of-type {\n",
       "        vertical-align: middle;\n",
       "    }\n",
       "\n",
       "    .dataframe tbody tr th {\n",
       "        vertical-align: top;\n",
       "    }\n",
       "\n",
       "    .dataframe thead th {\n",
       "        text-align: right;\n",
       "    }\n",
       "</style>\n",
       "<table border=\"1\" class=\"dataframe\">\n",
       "  <thead>\n",
       "    <tr style=\"text-align: right;\">\n",
       "      <th></th>\n",
       "      <th>id</th>\n",
       "      <th>lake</th>\n",
       "      <th>geometry</th>\n",
       "    </tr>\n",
       "  </thead>\n",
       "  <tbody>\n",
       "    <tr>\n",
       "      <th>0</th>\n",
       "      <td>1</td>\n",
       "      <td>738711.839617</td>\n",
       "      <td>POLYGON ((79.99753050027373 12.70549200942387,...</td>\n",
       "    </tr>\n",
       "    <tr>\n",
       "      <th>1</th>\n",
       "      <td>2</td>\n",
       "      <td>331979.562573</td>\n",
       "      <td>POLYGON ((79.99696262934471 12.71873912305542,...</td>\n",
       "    </tr>\n",
       "    <tr>\n",
       "      <th>2</th>\n",
       "      <td>3</td>\n",
       "      <td>324350.752850</td>\n",
       "      <td>POLYGON ((79.99035770677996 12.7199939074015, ...</td>\n",
       "    </tr>\n",
       "    <tr>\n",
       "      <th>3</th>\n",
       "      <td>1</td>\n",
       "      <td>546889.743808</td>\n",
       "      <td>POLYGON ((79.99649134368504 12.71425781693568,...</td>\n",
       "    </tr>\n",
       "    <tr>\n",
       "      <th>4</th>\n",
       "      <td>2</td>\n",
       "      <td>483301.392178</td>\n",
       "      <td>POLYGON ((79.99146031405782 12.71191626632197,...</td>\n",
       "    </tr>\n",
       "    <tr>\n",
       "      <th>5</th>\n",
       "      <td>3</td>\n",
       "      <td>453416.397012</td>\n",
       "      <td>POLYGON ((79.98560875914741 12.71069056326149,...</td>\n",
       "    </tr>\n",
       "    <tr>\n",
       "      <th>6</th>\n",
       "      <td>1</td>\n",
       "      <td>715576.815046</td>\n",
       "      <td>POLYGON ((79.98467240041489 12.70640827955954,...</td>\n",
       "    </tr>\n",
       "    <tr>\n",
       "      <th>7</th>\n",
       "      <td>2</td>\n",
       "      <td>582886.053504</td>\n",
       "      <td>POLYGON ((79.99101687725884 12.70349087208542,...</td>\n",
       "    </tr>\n",
       "    <tr>\n",
       "      <th>8</th>\n",
       "      <td>1</td>\n",
       "      <td>979887.957451</td>\n",
       "      <td>POLYGON ((79.98646407336119 12.7010667500609, ...</td>\n",
       "    </tr>\n",
       "    <tr>\n",
       "      <th>9</th>\n",
       "      <td>1</td>\n",
       "      <td>523399.522209</td>\n",
       "      <td>POLYGON ((79.99753050027373 12.70549200942387,...</td>\n",
       "    </tr>\n",
       "  </tbody>\n",
       "</table>\n",
       "</div>"
      ],
      "text/plain": [
       "   id           lake                                           geometry\n",
       "0   1  738711.839617  POLYGON ((79.99753050027373 12.70549200942387,...\n",
       "1   2  331979.562573  POLYGON ((79.99696262934471 12.71873912305542,...\n",
       "2   3  324350.752850  POLYGON ((79.99035770677996 12.7199939074015, ...\n",
       "3   1  546889.743808  POLYGON ((79.99649134368504 12.71425781693568,...\n",
       "4   2  483301.392178  POLYGON ((79.99146031405782 12.71191626632197,...\n",
       "5   3  453416.397012  POLYGON ((79.98560875914741 12.71069056326149,...\n",
       "6   1  715576.815046  POLYGON ((79.98467240041489 12.70640827955954,...\n",
       "7   2  582886.053504  POLYGON ((79.99101687725884 12.70349087208542,...\n",
       "8   1  979887.957451  POLYGON ((79.98646407336119 12.7010667500609, ...\n",
       "9   1  523399.522209  POLYGON ((79.99753050027373 12.70549200942387,..."
      ]
     },
     "execution_count": 6,
     "metadata": {},
     "output_type": "execute_result"
    }
   ],
   "source": [
    "data1=data.to_crs(epsg=4326)\n",
    "data1"
   ]
  },
  {
   "cell_type": "code",
   "execution_count": 7,
   "metadata": {},
   "outputs": [
    {
     "data": {
      "text/html": [
       "<div>\n",
       "<style scoped>\n",
       "    .dataframe tbody tr th:only-of-type {\n",
       "        vertical-align: middle;\n",
       "    }\n",
       "\n",
       "    .dataframe tbody tr th {\n",
       "        vertical-align: top;\n",
       "    }\n",
       "\n",
       "    .dataframe thead th {\n",
       "        text-align: right;\n",
       "    }\n",
       "</style>\n",
       "<table border=\"1\" class=\"dataframe\">\n",
       "  <thead>\n",
       "    <tr style=\"text-align: right;\">\n",
       "      <th></th>\n",
       "      <th>id</th>\n",
       "      <th>lake</th>\n",
       "    </tr>\n",
       "  </thead>\n",
       "  <tbody>\n",
       "    <tr>\n",
       "      <th>count</th>\n",
       "      <td>10.000000</td>\n",
       "      <td>10.000000</td>\n",
       "    </tr>\n",
       "    <tr>\n",
       "      <th>mean</th>\n",
       "      <td>1.700000</td>\n",
       "      <td>568040.003625</td>\n",
       "    </tr>\n",
       "    <tr>\n",
       "      <th>std</th>\n",
       "      <td>0.823273</td>\n",
       "      <td>199611.684389</td>\n",
       "    </tr>\n",
       "    <tr>\n",
       "      <th>min</th>\n",
       "      <td>1.000000</td>\n",
       "      <td>324350.752850</td>\n",
       "    </tr>\n",
       "    <tr>\n",
       "      <th>25%</th>\n",
       "      <td>1.000000</td>\n",
       "      <td>460887.645803</td>\n",
       "    </tr>\n",
       "    <tr>\n",
       "      <th>50%</th>\n",
       "      <td>1.500000</td>\n",
       "      <td>535144.633008</td>\n",
       "    </tr>\n",
       "    <tr>\n",
       "      <th>75%</th>\n",
       "      <td>2.000000</td>\n",
       "      <td>682404.124660</td>\n",
       "    </tr>\n",
       "    <tr>\n",
       "      <th>max</th>\n",
       "      <td>3.000000</td>\n",
       "      <td>979887.957451</td>\n",
       "    </tr>\n",
       "  </tbody>\n",
       "</table>\n",
       "</div>"
      ],
      "text/plain": [
       "              id           lake\n",
       "count  10.000000      10.000000\n",
       "mean    1.700000  568040.003625\n",
       "std     0.823273  199611.684389\n",
       "min     1.000000  324350.752850\n",
       "25%     1.000000  460887.645803\n",
       "50%     1.500000  535144.633008\n",
       "75%     2.000000  682404.124660\n",
       "max     3.000000  979887.957451"
      ]
     },
     "execution_count": 7,
     "metadata": {},
     "output_type": "execute_result"
    }
   ],
   "source": [
    "data.describe()"
   ]
  },
  {
   "cell_type": "code",
   "execution_count": 8,
   "metadata": {},
   "outputs": [],
   "source": [
    "import folium\n",
    "from folium import plugins"
   ]
  },
  {
   "cell_type": "code",
   "execution_count": 9,
   "metadata": {},
   "outputs": [
    {
     "data": {
      "text/html": [
       "<div style=\"width:100%;\"><div style=\"position:relative;width:100%;height:0;padding-bottom:60%;\"><iframe src=\"data:text/html;charset=utf-8;base64,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\" style=\"position:absolute;width:100%;height:100%;left:0;top:0;border:none !important;\" allowfullscreen webkitallowfullscreen mozallowfullscreen></iframe></div></div>"
      ],
      "text/plain": [
       "<folium.folium.Map at 0x7391bb4390>"
      ]
     },
     "execution_count": 9,
     "metadata": {},
     "output_type": "execute_result"
    }
   ],
   "source": [
    "import folium\n",
    "m = folium.Map(location=[12.71129557162551, 79.98430636079298], zoom_start=20)\n",
    "folium.GeoJson(data1).add_to(m)\n",
    "folium.LatLngPopup().add_to(m)\n",
    "m"
   ]
  },
  {
   "cell_type": "code",
   "execution_count": 10,
   "metadata": {},
   "outputs": [
    {
     "data": {
      "text/html": [
       "<div style=\"width:100%;\"><div style=\"position:relative;width:100%;height:0;padding-bottom:60%;\"><iframe src=\"data:text/html;charset=utf-8;base64,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\" style=\"position:absolute;width:100%;height:100%;left:0;top:0;border:none !important;\" allowfullscreen webkitallowfullscreen mozallowfullscreen></iframe></div></div>"
      ],
      "text/plain": [
       "<folium.folium.Map at 0x7392bbdb38>"
      ]
     },
     "execution_count": 10,
     "metadata": {},
     "output_type": "execute_result"
    }
   ],
   "source": [
    "m = folium.Map(location=[12.7103, 79.9886], zoom_start=20)\n",
    "\n",
    "#geo_data=data1.to_json()\n",
    "\n",
    "folium.Choropleth(geo_data=data1.to_json(),\n",
    "                  data=data1,\n",
    "                  columns=['id', 'lake'],\n",
    "                  key_on = 'feature.properties.id',\n",
    "                  fill_color='Set1_r',\n",
    "                  classification = 'Quantiles',\n",
    "                  classes=4,\n",
    "                  #fill_opacity=0.7, \n",
    "                  #line_opacity=0.3,\n",
    "                  highlight=True,\n",
    "                  legend_name='Lake').add_to(m)\n",
    "m"
   ]
  },
  {
   "cell_type": "code",
   "execution_count": null,
   "metadata": {},
   "outputs": [],
   "source": []
  }
 ],
 "metadata": {
  "kernelspec": {
   "display_name": "Python 3",
   "language": "python",
   "name": "python3"
  },
  "language_info": {
   "codemirror_mode": {
    "name": "ipython",
    "version": 3
   },
   "file_extension": ".py",
   "mimetype": "text/x-python",
   "name": "python",
   "nbconvert_exporter": "python",
   "pygments_lexer": "ipython3",
   "version": "3.6.7"
  },
  "toc": {
   "base_numbering": 1,
   "nav_menu": {},
   "number_sections": true,
   "sideBar": true,
   "skip_h1_title": false,
   "title_cell": "Table of Contents",
   "title_sidebar": "Contents",
   "toc_cell": false,
   "toc_position": {},
   "toc_section_display": true,
   "toc_window_display": false
  },
  "widgets": {
   "application/vnd.jupyter.widget-state+json": {
    "state": {},
    "version_major": 2,
    "version_minor": 0
   }
  }
 },
 "nbformat": 4,
 "nbformat_minor": 2
}
